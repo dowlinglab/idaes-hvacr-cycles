{
 "cells": [
  {
   "cell_type": "markdown",
   "metadata": {},
   "source": [
    "# COP Optimization for a Simple Vapor Recompression Cycle"
   ]
  },
  {
   "cell_type": "code",
   "execution_count": null,
   "metadata": {},
   "outputs": [],
   "source": [
    "from vapor_compression import SimpleVaporCompressionCycle"
   ]
  },
  {
   "cell_type": "markdown",
   "metadata": {},
   "source": [
    "## Define the Refridgerant"
   ]
  },
  {
   "cell_type": "code",
   "execution_count": null,
   "metadata": {},
   "outputs": [],
   "source": [
    "vc = SimpleVaporCompressionCycle('R134a')"
   ]
  },
  {
   "cell_type": "code",
   "execution_count": null,
   "metadata": {},
   "outputs": [],
   "source": [
    "vc.draw_thermodynamic_diagrams()"
   ]
  },
  {
   "cell_type": "code",
   "execution_count": null,
   "metadata": {},
   "outputs": [],
   "source": [
    "vc.specify_initial_conditions(enthalpy=[410,430,250,260], # kJ/kg\n",
    "                                pressure=[300,1100,1100,300] # kPa\n",
    "                                )"
   ]
  },
  {
   "cell_type": "markdown",
   "metadata": {},
   "source": [
    "## Initialize"
   ]
  },
  {
   "cell_type": "code",
   "execution_count": null,
   "metadata": {},
   "outputs": [],
   "source": [
    "vc.initialize()"
   ]
  },
  {
   "cell_type": "markdown",
   "metadata": {},
   "source": [
    "### Optimize"
   ]
  },
  {
   "cell_type": "code",
   "execution_count": null,
   "metadata": {},
   "outputs": [],
   "source": [
    "vc.set_specifications(\n",
    "    low_side_pressure=(200, 300), # Pa\n",
    "    high_side_pressure=(1000, 2000), # Pa\n",
    "    evaporator_temperature=(-20, 10), # degC\n",
    "    condenser_temperature=(30, 40), # degC\n",
    ")\n",
    "\n",
    "vc.optimize_COP(verbose=False)"
   ]
  },
  {
   "cell_type": "code",
   "execution_count": null,
   "metadata": {},
   "outputs": [],
   "source": [
    "vc.report_solution()"
   ]
  },
  {
   "cell_type": "markdown",
   "metadata": {},
   "source": [
    "## Sensitivity Analysis"
   ]
  },
  {
   "cell_type": "code",
   "execution_count": null,
   "metadata": {},
   "outputs": [],
   "source": [
    "import numpy as np\n",
    "T_ambient = np.linspace(20, 31, 22)\n",
    "\n",
    "COP = np.zeros_like(T_ambient)\n",
    "\n",
    "for i, Ta in enumerate(T_ambient):\n",
    "    vc.set_specifications(\n",
    "        low_side_pressure=(200, 300), # Pa\n",
    "        high_side_pressure=(1000, 2000), # Pa\n",
    "        evaporator_temperature=(-30, -10), # degC\n",
    "        condenser_temperature=(Ta+5, Ta+15), # degC\n",
    "    )\n",
    "    try:\n",
    "        COP[i] = vc.optimize_COP(verbose=False)\n",
    "    except:\n",
    "        COP[i] = np.nan"
   ]
  },
  {
   "cell_type": "code",
   "execution_count": null,
   "metadata": {},
   "outputs": [],
   "source": [
    "import matplotlib.pyplot as plt\n",
    "plt.plot(T_ambient, COP, linewidth=3)\n",
    "plt.xlabel('Ambient temperature (°C)', fontsize=18)\n",
    "plt.ylabel('COP', fontsize=18)\n",
    "plt.title('Simple Vapor Compression with R134a', fontsize=18)\n",
    "plt.grid()\n",
    "plt.show()"
   ]
  },
  {
   "cell_type": "code",
   "execution_count": null,
   "metadata": {},
   "outputs": [],
   "source": []
  }
 ],
 "metadata": {
  "kernelspec": {
   "display_name": "idaes-dev",
   "language": "python",
   "name": "python3"
  },
  "language_info": {
   "codemirror_mode": {
    "name": "ipython",
    "version": 3
   },
   "file_extension": ".py",
   "mimetype": "text/x-python",
   "name": "python",
   "nbconvert_exporter": "python",
   "pygments_lexer": "ipython3",
   "version": "3.10.16"
  }
 },
 "nbformat": 4,
 "nbformat_minor": 2
}
